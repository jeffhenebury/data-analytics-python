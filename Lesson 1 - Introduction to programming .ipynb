{
 "cells": [
  {
   "cell_type": "markdown",
   "metadata": {},
   "source": [
    "# Lesson 1\n",
    "\n",
    "# What is coding and why do we do it?\n",
    "Computers communicate using 1 and 0. If we as humans want to tell the computer what to do we have to speak its language. Luckily, there are ways to make it easier than typing only 0 and 1. A programming language is a layer linking how we as humans think and how the computer thinks, helping us to tell the computer what to do. Python is one such language. It is popular because it is simple, intuitive, and flexible. But why do we need to program at all? There are many things we can do in excel and other high level tools but once the amount of data increase or we want to do something outside the box programming can be a powerful tool. \n",
    "\n",
    "Python is much faster and more flexible than Excel or other off the shelf tools. \n",
    "\n",
    "This module will focus on python. Python is a very flexible and powerful programing language. The flexibility comes from python being something we call _dynamically_ typed. This means that we do not have to specify the types while we write the code. However if we are inconsistent we will get an error. \n",
    "\n",
    "```\n",
    "name = 'John Doe' #string is sequences of character data \n",
    "age = 54 #numeric is used for integer values \n",
    "weight = 12.5 #float or double is used for numeric values with a decimal place\n",
    "is_male = True #boolean is used for logic values, true or false. \n",
    "```\n",
    "\n",
    "**Jupyter notebook** \n",
    "Software development is traditionally done in scripts, text files that contain your code and is run from the terminal. However, to make our lives a little easier we will be using something called Jupyter Notebooks. Jupyter is open source, meaning that it is free and a community project where anyone can contribute, that allows for us to write and run code in the browser. It can be installed through Anaconda or from the terminal. \n",
    "\n",
    "**Python packages** \n",
    "Functions are a key concept in programming. We will cover them more in depth in the intermediate session but for now we will think of functions as blocks of code that we can reuse to perform repeatable tasks. Many of the tasks we wish to do have already been implemented by someone else, and bundled into something called a package, which is pre written and pre compiled code. Then we can call those functions directly from our own code with re-implementing. \n",
    "\n",
    "\n",
    "# Introduction to python \n",
    "## Programming Basics \n",
    "When we program in a notebook we type statements and run them by running each block separately."
   ]
  },
  {
   "cell_type": "code",
   "execution_count": 5,
   "metadata": {},
   "outputs": [
    {
     "name": "stdout",
     "output_type": "stream",
     "text": [
      "Welcome to class\n"
     ]
    },
    {
     "data": {
      "text/plain": [
       "'we are coding'"
      ]
     },
     "execution_count": 5,
     "metadata": {},
     "output_type": "execute_result"
    }
   ],
   "source": [
    "print('Welcome to class')\n",
    "'we are coding'"
   ]
  },
  {
   "cell_type": "code",
   "execution_count": null,
   "metadata": {},
   "outputs": [],
   "source": [
    "'hello'"
   ]
  },
  {
   "cell_type": "code",
   "execution_count": null,
   "metadata": {},
   "outputs": [],
   "source": [
    "print('hello')"
   ]
  },
  {
   "cell_type": "markdown",
   "metadata": {},
   "source": [
    "In jupyter the last line is always printed but if we want ot print something earlier in a block we use a print statement. "
   ]
  },
  {
   "cell_type": "markdown",
   "metadata": {},
   "source": [
    "### General Housekeeping \n",
    "To be consistent we will use snail case when assigning variables and functions, for example _my__long__variable__name_ instead of LongVariableName. It is also good to use names that actually explain what is going on. If you are good about naming your variables and functions your code should not need many comments to explain what is going on. For example your function should be named `calculaing_average()` instead of `f()`\n",
    "\n",
    "### Assigning variables\n",
    "In the introduction section we talked about static versus dynamic typing. \n",
    "The two statements below showcase how this work in reality, in the first statement the variable is an integer and the second a character, without us having to specify. The program decided under the hood based on the value of the variable. "
   ]
  },
  {
   "cell_type": "code",
   "execution_count": 6,
   "metadata": {},
   "outputs": [
    {
     "name": "stdout",
     "output_type": "stream",
     "text": [
      "value of number is 5 and datatype is <class 'int'>\n"
     ]
    }
   ],
   "source": [
    "number = 5 \n",
    "print('value of number is {} and datatype is {}'.format(number, type(number)))"
   ]
  },
  {
   "cell_type": "code",
   "execution_count": 16,
   "metadata": {},
   "outputs": [
    {
     "name": "stdout",
     "output_type": "stream",
     "text": [
      "value of my_number is 5 and datatype is <class 'int'>\n"
     ]
    }
   ],
   "source": [
    "my_number = '5' \n",
    "print('value of my_number is {} and datatype is {}'.format(number, type(number)))"
   ]
  },
  {
   "cell_type": "code",
   "execution_count": 8,
   "metadata": {},
   "outputs": [
    {
     "name": "stdout",
     "output_type": "stream",
     "text": [
      "value of number is 5 and datatype is <class 'int'>\n"
     ]
    }
   ],
   "source": [
    "number = '5' \n",
    "number = int(number)\n",
    "print('value of number is {} and datatype is {}'.format(number, type(number)))"
   ]
  },
  {
   "cell_type": "code",
   "execution_count": 10,
   "metadata": {},
   "outputs": [
    {
     "name": "stdout",
     "output_type": "stream",
     "text": [
      "value of number is  5 and the datatype is <class 'int'>\n"
     ]
    }
   ],
   "source": [
    "print('value of number is ',number, 'and the datatype is', type(number))"
   ]
  },
  {
   "cell_type": "markdown",
   "metadata": {},
   "source": [
    "Logic variables are very important in programming. In python we call these variables _bool_ and they can have the value _True_ or _False_"
   ]
  },
  {
   "cell_type": "code",
   "execution_count": 11,
   "metadata": {},
   "outputs": [
    {
     "name": "stdout",
     "output_type": "stream",
     "text": [
      "is_human has the value True and datatype <class 'bool'>\n"
     ]
    }
   ],
   "source": [
    "is_human = True \n",
    "print('is_human has the value {} and datatype {}'.format(is_human,type(is_human)))"
   ]
  },
  {
   "cell_type": "markdown",
   "metadata": {},
   "source": [
    "What happens when a variable does not have a value? In python we cannot instanciate a variable without any value but we can give it the value None. This is also the value that is assigned if we are reading in incomplete data. "
   ]
  },
  {
   "cell_type": "code",
   "execution_count": 12,
   "metadata": {},
   "outputs": [
    {
     "name": "stdout",
     "output_type": "stream",
     "text": [
      "my_variable has the value None and is of data_type <class 'NoneType'>\n"
     ]
    }
   ],
   "source": [
    "my_variable = None \n",
    "print('my_variable has the value {} and is of data_type {}'.format(my_variable, type(my_variable)))"
   ]
  },
  {
   "cell_type": "markdown",
   "metadata": {},
   "source": [
    "### Basic functionality\n",
    "#### Math \n",
    "We can do simple math in an intuitive way "
   ]
  },
  {
   "cell_type": "code",
   "execution_count": 13,
   "metadata": {},
   "outputs": [
    {
     "data": {
      "text/plain": [
       "15"
      ]
     },
     "execution_count": 13,
     "metadata": {},
     "output_type": "execute_result"
    }
   ],
   "source": [
    "5 + 10"
   ]
  },
  {
   "cell_type": "code",
   "execution_count": 14,
   "metadata": {},
   "outputs": [
    {
     "data": {
      "text/plain": [
       "-5"
      ]
     },
     "execution_count": 14,
     "metadata": {},
     "output_type": "execute_result"
    }
   ],
   "source": [
    "5 - 10 "
   ]
  },
  {
   "cell_type": "markdown",
   "metadata": {},
   "source": [
    "12 / 5"
   ]
  },
  {
   "cell_type": "code",
   "execution_count": 17,
   "metadata": {},
   "outputs": [
    {
     "ename": "TypeError",
     "evalue": "unsupported operand type(s) for /: 'int' and 'str'",
     "output_type": "error",
     "traceback": [
      "\u001b[0;31m---------------------------------------------------------------------------\u001b[0m",
      "\u001b[0;31mTypeError\u001b[0m                                 Traceback (most recent call last)",
      "\u001b[0;32m<ipython-input-17-66e3a680e941>\u001b[0m in \u001b[0;36m<module>\u001b[0;34m\u001b[0m\n\u001b[0;32m----> 1\u001b[0;31m \u001b[0;36m12\u001b[0m\u001b[0;34m/\u001b[0m\u001b[0;34m'5'\u001b[0m\u001b[0;34m\u001b[0m\u001b[0;34m\u001b[0m\u001b[0m\n\u001b[0m",
      "\u001b[0;31mTypeError\u001b[0m: unsupported operand type(s) for /: 'int' and 'str'"
     ]
    }
   ],
   "source": [
    "12/'5'"
   ]
  },
  {
   "cell_type": "markdown",
   "metadata": {},
   "source": [
    "#### Logic \n",
    "Logic statements are a fundational building block of programming. Python supports the usual logic conditions:\n",
    "- Equals: a == b\n",
    "- Not Equals: a != b\n",
    "- Less than: a < b\n",
    "- Less than or equal to: a <= b\n",
    "- Greater than: a > b\n",
    "- Greater than or equal to: a >= b  \n",
    "  \n",
    "<font color='blue'>Programming question:</font> Before running the commands below, write down what you think the result would be.  \n"
   ]
  },
  {
   "cell_type": "code",
   "execution_count": 18,
   "metadata": {},
   "outputs": [
    {
     "name": "stdout",
     "output_type": "stream",
     "text": [
      "5 == 10 --> False\n",
      "5 == 5 --> True\n",
      "5 == \"5\" --> False\n",
      "1 == 1.0 --> True\n"
     ]
    }
   ],
   "source": [
    "print('5 == 10 --> {}'.format(5==10))\n",
    "print('5 == 5 --> {}'.format(5==5))\n",
    "print('5 == \"5\" --> {}'.format(5=='5'))\n",
    "print('1 == 1.0 --> {}'.format(1==1.0))"
   ]
  },
  {
   "cell_type": "markdown",
   "metadata": {},
   "source": [
    "You can see from the statements above that equality also takes datatypes into acount "
   ]
  },
  {
   "cell_type": "markdown",
   "metadata": {},
   "source": [
    "The statements below show the basic rules of logic. The science of logic is called Discrete Math.  \n",
    "  \n",
    "<font color='blue'>Programming question:</font> Before running the commands below, write down what you think the result would be. "
   ]
  },
  {
   "cell_type": "code",
   "execution_count": 19,
   "metadata": {},
   "outputs": [
    {
     "name": "stdout",
     "output_type": "stream",
     "text": [
      "True and True --> True\n",
      "True and False --> False\n",
      "True or True --> True\n",
      "True or False --> True\n"
     ]
    }
   ],
   "source": [
    "print('True and True --> {}'.format(True and True))\n",
    "print('True and False --> {}'.format(True and False))\n",
    "print('True or True --> {}'.format(True or True))\n",
    "print('True or False --> {}'.format(True or False))"
   ]
  },
  {
   "cell_type": "code",
   "execution_count": 24,
   "metadata": {},
   "outputs": [
    {
     "data": {
      "text/plain": [
       "False"
      ]
     },
     "execution_count": 24,
     "metadata": {},
     "output_type": "execute_result"
    }
   ],
   "source": [
    "is_short = True\n",
    "is_tall = False"
   ]
  },
  {
   "cell_type": "code",
   "execution_count": 21,
   "metadata": {},
   "outputs": [
    {
     "data": {
      "text/plain": [
       "True"
      ]
     },
     "execution_count": 21,
     "metadata": {},
     "output_type": "execute_result"
    }
   ],
   "source": [
    "is_short or is_tall"
   ]
  },
  {
   "cell_type": "code",
   "execution_count": 22,
   "metadata": {},
   "outputs": [
    {
     "data": {
      "text/plain": [
       "False"
      ]
     },
     "execution_count": 22,
     "metadata": {},
     "output_type": "execute_result"
    }
   ],
   "source": [
    "is_short and is_tall"
   ]
  },
  {
   "cell_type": "markdown",
   "metadata": {},
   "source": [
    "### Python packages \n",
    "In the introduction part we talked about packages. There is a lot of functionality that has already been implemented. We can loop up packages here https://pypi.org/. Many packages are already installed with the python distribution while others have to be installed by you. You can install packages from the terminal using \n",
    "\n",
    "```pip install package-name```\n",
    "\n",
    "We can also install packages directly from the notebook. "
   ]
  },
  {
   "cell_type": "code",
   "execution_count": 26,
   "metadata": {},
   "outputs": [
    {
     "name": "stdout",
     "output_type": "stream",
     "text": [
      "Requirement already satisfied: numpy in /usr/local/lib/python3.7/site-packages (1.18.2)\r\n"
     ]
    }
   ],
   "source": [
    "import sys\n",
    "!{sys.executable} -m pip install numpy"
   ]
  },
  {
   "cell_type": "markdown",
   "metadata": {},
   "source": [
    "Now that we have installed _numpy_ let's try to use it. There are two ways to import functionality "
   ]
  },
  {
   "cell_type": "markdown",
   "metadata": {},
   "source": [
    "comments go here"
   ]
  },
  {
   "cell_type": "code",
   "execution_count": null,
   "metadata": {},
   "outputs": [],
   "source": [
    "import numpy as np #imports all the funtionality from the numpy package\n",
    "from numpy import square #imports only the specific functions we need"
   ]
  },
  {
   "cell_type": "code",
   "execution_count": 27,
   "metadata": {},
   "outputs": [],
   "source": [
    "import math as np #don't do this"
   ]
  },
  {
   "cell_type": "code",
   "execution_count": 29,
   "metadata": {},
   "outputs": [
    {
     "data": {
      "text/plain": [
       "4.358898943540674"
      ]
     },
     "execution_count": 29,
     "metadata": {},
     "output_type": "execute_result"
    }
   ],
   "source": [
    "math.sqrt(19)"
   ]
  },
  {
   "cell_type": "markdown",
   "metadata": {},
   "source": [
    "Let's try it out. "
   ]
  },
  {
   "cell_type": "code",
   "execution_count": null,
   "metadata": {},
   "outputs": [],
   "source": [
    "number = 10 "
   ]
  },
  {
   "cell_type": "code",
   "execution_count": null,
   "metadata": {},
   "outputs": [],
   "source": [
    "print('Printing the value of 10*10 --> {}'.format(number*number))\n",
    "\n",
    "print('Printing the value of np.square(10) --> {}'.format(np.square(number)))\n",
    "\n",
    "print('Printing the value of square(10) --> {}'.format(square(number)))"
   ]
  },
  {
   "cell_type": "markdown",
   "metadata": {},
   "source": [
    "In general it is best practice to only import the functions we need from a package, but sometimes we need so many that it is better to import the whole module. "
   ]
  },
  {
   "cell_type": "markdown",
   "metadata": {},
   "source": [
    "### Loading Data\n",
    "The most commonly used package for handling data in python is called pandas. It is very powerful and can do many things. To get aquianted with all the pandas functionality I recommend checking out the documentation here https://pandas.pydata.org/docs/reference/index.html#api\n",
    "\n",
    "Reading technical documentation can sometimes be a little challenging so I will go through what all the parameters for _read__csv_ and what they mean. \n",
    "\n",
    "pandas.read_csv(filepath_or_buffer, sep=',', delimiter=None, header='infer', names=None, index_col=None, usecols=None, squeeze=False, prefix=None, mangle_dupe_cols=True, dtype=None, engine=None, converters=None, true_values=None, false_values=None, skipinitialspace=False, skiprows=None, skipfooter=0, nrows=None, na_values=None, keep_default_na=True, na_filter=True, verbose=False, skip_blank_lines=True, parse_dates=False, infer_datetime_format=False, keep_date_col=False, date_parser=None, dayfirst=False, cache_dates=True, iterator=False, chunksize=None, compression='infer', thousands=None, decimal='.', lineterminator=None, quotechar='\"', quoting=0, doublequote=True, escapechar=None, comment=None, encoding=None, dialect=None, error_bad_lines=True, warn_bad_lines=True, delim_whitespace=False, low_memory=True, memory_map=False, float_precision=None)m\n",
    "\n"
   ]
  },
  {
   "cell_type": "code",
   "execution_count": 30,
   "metadata": {},
   "outputs": [
    {
     "data": {
      "text/html": [
       "<div>\n",
       "<style scoped>\n",
       "    .dataframe tbody tr th:only-of-type {\n",
       "        vertical-align: middle;\n",
       "    }\n",
       "\n",
       "    .dataframe tbody tr th {\n",
       "        vertical-align: top;\n",
       "    }\n",
       "\n",
       "    .dataframe thead th {\n",
       "        text-align: right;\n",
       "    }\n",
       "</style>\n",
       "<table border=\"1\" class=\"dataframe\">\n",
       "  <thead>\n",
       "    <tr style=\"text-align: right;\">\n",
       "      <th></th>\n",
       "      <th>type</th>\n",
       "      <th>fixed acidity</th>\n",
       "      <th>volatile acidity</th>\n",
       "      <th>citric acid</th>\n",
       "      <th>residual sugar</th>\n",
       "      <th>chlorides</th>\n",
       "      <th>free sulfur dioxide</th>\n",
       "      <th>total sulfur dioxide</th>\n",
       "      <th>density</th>\n",
       "      <th>pH</th>\n",
       "      <th>sulphates</th>\n",
       "      <th>alcohol</th>\n",
       "      <th>quality</th>\n",
       "    </tr>\n",
       "  </thead>\n",
       "  <tbody>\n",
       "    <tr>\n",
       "      <th>0</th>\n",
       "      <td>white</td>\n",
       "      <td>7.0</td>\n",
       "      <td>0.27</td>\n",
       "      <td>0.36</td>\n",
       "      <td>20.7</td>\n",
       "      <td>0.045</td>\n",
       "      <td>45.0</td>\n",
       "      <td>170.0</td>\n",
       "      <td>1.0010</td>\n",
       "      <td>3.00</td>\n",
       "      <td>0.45</td>\n",
       "      <td>8.8</td>\n",
       "      <td>6</td>\n",
       "    </tr>\n",
       "    <tr>\n",
       "      <th>1</th>\n",
       "      <td>white</td>\n",
       "      <td>6.3</td>\n",
       "      <td>0.30</td>\n",
       "      <td>0.34</td>\n",
       "      <td>1.6</td>\n",
       "      <td>0.049</td>\n",
       "      <td>14.0</td>\n",
       "      <td>132.0</td>\n",
       "      <td>0.9940</td>\n",
       "      <td>3.30</td>\n",
       "      <td>0.49</td>\n",
       "      <td>9.5</td>\n",
       "      <td>6</td>\n",
       "    </tr>\n",
       "    <tr>\n",
       "      <th>2</th>\n",
       "      <td>white</td>\n",
       "      <td>8.1</td>\n",
       "      <td>0.28</td>\n",
       "      <td>0.40</td>\n",
       "      <td>6.9</td>\n",
       "      <td>0.050</td>\n",
       "      <td>30.0</td>\n",
       "      <td>97.0</td>\n",
       "      <td>0.9951</td>\n",
       "      <td>3.26</td>\n",
       "      <td>0.44</td>\n",
       "      <td>10.1</td>\n",
       "      <td>6</td>\n",
       "    </tr>\n",
       "    <tr>\n",
       "      <th>3</th>\n",
       "      <td>white</td>\n",
       "      <td>7.2</td>\n",
       "      <td>0.23</td>\n",
       "      <td>0.32</td>\n",
       "      <td>8.5</td>\n",
       "      <td>0.058</td>\n",
       "      <td>47.0</td>\n",
       "      <td>186.0</td>\n",
       "      <td>0.9956</td>\n",
       "      <td>3.19</td>\n",
       "      <td>0.40</td>\n",
       "      <td>9.9</td>\n",
       "      <td>6</td>\n",
       "    </tr>\n",
       "    <tr>\n",
       "      <th>4</th>\n",
       "      <td>white</td>\n",
       "      <td>7.2</td>\n",
       "      <td>0.23</td>\n",
       "      <td>0.32</td>\n",
       "      <td>8.5</td>\n",
       "      <td>0.058</td>\n",
       "      <td>47.0</td>\n",
       "      <td>186.0</td>\n",
       "      <td>0.9956</td>\n",
       "      <td>3.19</td>\n",
       "      <td>0.40</td>\n",
       "      <td>9.9</td>\n",
       "      <td>6</td>\n",
       "    </tr>\n",
       "  </tbody>\n",
       "</table>\n",
       "</div>"
      ],
      "text/plain": [
       "    type  fixed acidity  volatile acidity  citric acid  residual sugar  \\\n",
       "0  white            7.0              0.27         0.36            20.7   \n",
       "1  white            6.3              0.30         0.34             1.6   \n",
       "2  white            8.1              0.28         0.40             6.9   \n",
       "3  white            7.2              0.23         0.32             8.5   \n",
       "4  white            7.2              0.23         0.32             8.5   \n",
       "\n",
       "   chlorides  free sulfur dioxide  total sulfur dioxide  density    pH  \\\n",
       "0      0.045                 45.0                 170.0   1.0010  3.00   \n",
       "1      0.049                 14.0                 132.0   0.9940  3.30   \n",
       "2      0.050                 30.0                  97.0   0.9951  3.26   \n",
       "3      0.058                 47.0                 186.0   0.9956  3.19   \n",
       "4      0.058                 47.0                 186.0   0.9956  3.19   \n",
       "\n",
       "   sulphates  alcohol  quality  \n",
       "0       0.45      8.8        6  \n",
       "1       0.49      9.5        6  \n",
       "2       0.44     10.1        6  \n",
       "3       0.40      9.9        6  \n",
       "4       0.40      9.9        6  "
      ]
     },
     "execution_count": 30,
     "metadata": {},
     "output_type": "execute_result"
    }
   ],
   "source": [
    "import pandas as pd\n",
    "wine_data = pd.read_csv('winequalityN.csv')\n",
    "wine_data.head(5)"
   ]
  },
  {
   "cell_type": "markdown",
   "metadata": {},
   "source": [
    "Let's try to use some of our newfound knowledge on filtering. We want to seperate out red and white wine.  \n",
    "<font color='blue'>Programming question:</font> Can you think of another set of logic statements than the ones below that produces the same results?"
   ]
  },
  {
   "cell_type": "code",
   "execution_count": null,
   "metadata": {},
   "outputs": [],
   "source": [
    "weeks_as_one = "
   ]
  },
  {
   "cell_type": "code",
   "execution_count": null,
   "metadata": {},
   "outputs": [],
   "source": [
    "white_wine = wine_data[wine_data['type'] == 'white']\n",
    "red_wine = wine_data[wine_data['type'] == 'red']"
   ]
  },
  {
   "cell_type": "code",
   "execution_count": null,
   "metadata": {},
   "outputs": [],
   "source": [
    "print('Dimmensions of the original dataset --> {}'.format(wine_data.shape))\n",
    "print('Dimmensions of the red wine dataset --> {}'.format(white_wine.shape))\n",
    "print('Dimmensions of the white wine dataset --> {}'.format(red_wine.shape))"
   ]
  },
  {
   "cell_type": "markdown",
   "metadata": {},
   "source": [
    "## Programming Intermediate\n",
    "### Loops "
   ]
  },
  {
   "cell_type": "markdown",
   "metadata": {},
   "source": [
    "#### For Loops\n",
    "A for loop is used for iterating over a sequence (that is either a list, a tuple, a dictionary, a set, or a string). In the example below we iterate through a list of fruits printing out the value in each iteration"
   ]
  },
  {
   "cell_type": "code",
   "execution_count": null,
   "metadata": {},
   "outputs": [],
   "source": [
    "fruits = [\"apple\", \"banana\", \"cherry\"]\n",
    "for x in fruits:\n",
    "    print(x)"
   ]
  },
  {
   "cell_type": "markdown",
   "metadata": {},
   "source": [
    "#### While Loops \n",
    "A While loops is used for iterating until a certain condition is met. In the example below we create a counter variable with the value 1 and keep iterating while it is less than 10 incrementing by 1 every time. "
   ]
  },
  {
   "cell_type": "code",
   "execution_count": null,
   "metadata": {},
   "outputs": [],
   "source": [
    "counter = 1 \n",
    "while counter < 10:\n",
    "    print('counter is {}'.format(counter))\n",
    "    counter += 1"
   ]
  },
  {
   "cell_type": "markdown",
   "metadata": {},
   "source": [
    "### If Else Conditionals \n",
    "We can use the if else block to build logic statements. We can add as many clauses as we want to build a long string of if,else,if,else.  "
   ]
  },
  {
   "cell_type": "code",
   "execution_count": null,
   "metadata": {},
   "outputs": [],
   "source": [
    "number = 10 \n",
    "if number == 10:\n",
    "    print('number is 10')\n",
    "else:\n",
    "    print('number is not 10 number is {}'.format(number))"
   ]
  },
  {
   "cell_type": "code",
   "execution_count": null,
   "metadata": {},
   "outputs": [],
   "source": [
    "number = 11 \n",
    "if number == 10:\n",
    "    print('number is 10')\n",
    "else:\n",
    "    print('number is not 10 number is {}'.format(number))"
   ]
  },
  {
   "cell_type": "markdown",
   "metadata": {},
   "source": [
    "### Functions \n",
    "We talked earlier about how we can import functionality from modules, but what if we want to make our own reusable code. In that case we should make our own function. In the example we create a simple function that pops the last element off an array and return the remainding array. "
   ]
  },
  {
   "cell_type": "code",
   "execution_count": null,
   "metadata": {},
   "outputs": [],
   "source": [
    "def remove_last_element_of_array(my_array):\n",
    "    my_array.pop()\n",
    "    return my_array"
   ]
  },
  {
   "cell_type": "code",
   "execution_count": null,
   "metadata": {},
   "outputs": [],
   "source": [
    "test_array = [10,9,8,7,6,5,4,3,2,1]\n",
    "print(remove_last_element_of_array(test_array))"
   ]
  },
  {
   "cell_type": "markdown",
   "metadata": {},
   "source": [
    "## Programming Advanced\n",
    "### Lambda functions\n",
    "Python lambdas are little, anonymous functions, subject to a more restrictive but more concise syntax than regular Python functions. The example below shows how we can use both a lambda function and a regular function to achieve our goal of adding two numbers together. "
   ]
  },
  {
   "cell_type": "code",
   "execution_count": null,
   "metadata": {},
   "outputs": [],
   "source": [
    "def add_traditional(x,y):\n",
    "    return x+y \n",
    "\n",
    "add_lambda = lambda x, y: x + y\n",
    "\n",
    "print('add_traditional(2,3) --> {}'.format(add_traditional(2,3)))\n",
    "print('add_lambda(2,3) --> {}'.format(add_lambda(2,3)))"
   ]
  },
  {
   "cell_type": "markdown",
   "metadata": {},
   "source": [
    "You might wonder why we use lambda functions when the result is the same. The simple answer is that lambda functions are faster. They can also make your code simpler and therefore more readable. "
   ]
  },
  {
   "cell_type": "markdown",
   "metadata": {},
   "source": [
    "### Arrays  \n",
    "We can iterate over an array by a foor loop but there is also a faster way to do this in python. The example below shows how we can double every element in an array by a for loop or by list comprehension. "
   ]
  },
  {
   "cell_type": "code",
   "execution_count": null,
   "metadata": {},
   "outputs": [],
   "source": [
    "my_array = [1,2,3]"
   ]
  },
  {
   "cell_type": "code",
   "execution_count": null,
   "metadata": {},
   "outputs": [],
   "source": [
    "my_new_array = []\n",
    "for element in my_array:\n",
    "    my_new_array.append(element*2)"
   ]
  },
  {
   "cell_type": "code",
   "execution_count": null,
   "metadata": {},
   "outputs": [],
   "source": [
    "my_double_array = [element*2 for element in my_array]"
   ]
  },
  {
   "cell_type": "code",
   "execution_count": null,
   "metadata": {},
   "outputs": [],
   "source": [
    "print('my_array --> {}'.format(my_array))\n",
    "print('my_double_array --> {}'.format(my_double_array))\n",
    "print('my_new_array --> {}'.format(my_new_array))"
   ]
  },
  {
   "cell_type": "markdown",
   "metadata": {},
   "source": [
    "## Conclusion\n",
    "You made it all the way to the end of _Introduction to Python_ you should make sure you fully understand everything in the basic section and if you want everything in the intermediate and/or advanced as well. We will use many of these concepts going forward so it might make your future weeks a little bit easier. \n",
    "\n",
    "By the end of this class you should be able to:\n",
    "- load your data in a notebook\n",
    "- know the differemt datatypes in python\n",
    "\n",
    "Think about the follow two questions for the feedback section: \n",
    "1. Were you surprised by anything when looking at your data? \n",
    "2. What is your initial hypothesis for insight based on the datatypes in your dataset?"
   ]
  }
 ],
 "metadata": {
  "kernelspec": {
   "display_name": "Python 3 (ipykernel)",
   "language": "python",
   "name": "python3"
  },
  "language_info": {
   "codemirror_mode": {
    "name": "ipython",
    "version": 3
   },
   "file_extension": ".py",
   "mimetype": "text/x-python",
   "name": "python",
   "nbconvert_exporter": "python",
   "pygments_lexer": "ipython3",
   "version": "3.9.6"
  }
 },
 "nbformat": 4,
 "nbformat_minor": 2
}
